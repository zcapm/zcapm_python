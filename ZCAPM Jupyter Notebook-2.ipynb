{
 "cells": [
  {
   "cell_type": "markdown",
   "metadata": {},
   "source": [
    "# Example\n",
    "**For the most convenient testing experience use a Jupyter Notebook**\n",
    "\n",
    "Included in the python ZCAPM package and ZCAPM github repository is data used for testing the model. The data is as follows\n",
    "1. ff_factors.csv is a file containing the Fama French factors\n",
    "2. ff25_day.csv is a file containing returns for 25 size - Book-to-Market sorter portfolios\n",
    "3. ind47.csv is a file containing returns for 47 industry portfolios\n",
    "4. mu_sigma.csv contains returns for the equal weight market return and market sigma as discussed in the ZCAPM book\n",
    "\n",
    "The methods included in the Testing class of the ZCAPM package are as follows\n",
    "\n",
    "* estLinearModel(), _rollapplyLM(), and _LMRegression() are all used for constructing and estimating time series factor loadings for linear factor models such as the Fama French 3 factor model\n",
    "\n",
    "* estZCAPM(), _rollapplyEM(), _EMRegression(), and _EM_loop() are all methods used for estimating time series factor loadings for our proposed ZCAPM model with the Expectation Maxization Algorithm\n",
    "\n",
    "* FamaMacBeth() is used for running the Fama-MacBeth test\n",
    "\n",
    "for more information on each method use ```__doc__```"
   ]
  },
  {
   "cell_type": "markdown",
   "metadata": {},
   "source": [
    "#### Import ZCAPM Package"
   ]
  },
  {
   "cell_type": "code",
   "execution_count": 18,
   "metadata": {},
   "outputs": [],
   "source": [
    "import ZCAPM"
   ]
  },
  {
   "cell_type": "markdown",
   "metadata": {},
   "source": [
    "#### Create class instance"
   ]
  },
  {
   "cell_type": "code",
   "execution_count": 19,
   "metadata": {},
   "outputs": [],
   "source": [
    "#Use test = Testing(False) if you do not want progress updates while the code is running\n",
    "test = ZCAPM.Testing()"
   ]
  },
  {
   "cell_type": "markdown",
   "metadata": {},
   "source": [
    "#### Load and prepare data for testing"
   ]
  },
  {
   "cell_type": "code",
   "execution_count": 20,
   "metadata": {},
   "outputs": [],
   "source": [
    "#Set Parameters for rolling estimations and EM Algorithm. For information on parameters see doc string of _EM_loop method\n",
    "tol = .001 \n",
    "MaxIter = 1000\n",
    "criterion = 1\n",
    "width = 3\n",
    "\n",
    "######## IMPORTANT########\n",
    "#trims off all of the first \"width\" amount of monthly returns to ensure that the Fama-MacBeth test is performed \n",
    "#OUT OF SAMPLE\n",
    "monthly_excess_return = test.sorted_portfolio_monthly_excess_return.iloc[width:,:]\n",
    "portfolio_excess_return = test.sorted_portfolio_daily_excess_return\n",
    "factor_return = test.factor_daily_return\n",
    "\n",
    "YearMonth = monthly_excess_return.index\n",
    "\n",
    "#create pandas series for mkt ret, mkt sigma, and factors. Convert indices of these series and portfolio return dataframe\n",
    "#to be the YearMonth list. Useful for indexing purposes while testing\n",
    "mu = (factor_return.loc[:,\"R_a.R_f\"])\n",
    "sigma = (factor_return.loc[:,\"sigma_a\"])\n",
    "facs_ret = factor_return.loc[:,['YearMonth','R_a.R_f','SMB','HML']]\n",
    "\n",
    "mu.index = factor_return.YearMonth\n",
    "sigma.index = factor_return.YearMonth\n",
    "portfolio_excess_return.set_index('YearMonth',inplace = True)\n",
    "facs_ret.set_index('YearMonth',inplace =True)"
   ]
  },
  {
   "cell_type": "markdown",
   "metadata": {},
   "source": [
    "#### Time series estimations of ZCAPM and linear factor models"
   ]
  },
  {
   "cell_type": "code",
   "execution_count": 21,
   "metadata": {},
   "outputs": [
    {
     "name": "stdout",
     "output_type": "stream",
     "text": [
      "Fitting linear model for BIG.HiBMBM\r"
     ]
    }
   ],
   "source": [
    "#calculates time series factor loadings for each portfolio. See Testing class for information on the arguments of each\n",
    "#method\n",
    "zcapm_results = test.estZCAPM(portfolio_excess_return,mu,sigma,tol,MaxIter,criterion,width)\n",
    "ff3_results = test.estLinearModel(portfolio_excess_return,facs_ret,width)\n",
    "capm_results = test.estLinearModel(portfolio_excess_return,facs_ret.loc[:,['R_a.R_f']],width)\n",
    "\n",
    "#adjust the zeta estimates for each portfolio to monthly estimates\n",
    "zeta_cols = zcapm_results.columns[zcapm_results.columns.str.contains('zeta')]\n",
    "zcapm_results.loc[:,zeta_cols] = zcapm_results.loc[:,zeta_cols]*21"
   ]
  },
  {
   "cell_type": "markdown",
   "metadata": {},
   "source": [
    "#### Out of sample cross-sectional Fama MacBeth test"
   ]
  },
  {
   "cell_type": "code",
   "execution_count": 22,
   "metadata": {},
   "outputs": [],
   "source": [
    "#Runs the Fama-MacBeth Test for each portfolio\n",
    "ZCAPM = test.FamaMacBeth(monthly_excess_return,zcapm_results,['beta','zeta'],'ZCAPM')\n",
    "FF3 = test.FamaMacBeth(monthly_excess_return,ff3_results,['R_a.R_f','SMB','HML'],'Fama-French 3 Factor')\n",
    "CAPM = test.FamaMacBeth(monthly_excess_return,capm_results,['R_a.R_f',],'CAPM')"
   ]
  },
  {
   "cell_type": "code",
   "execution_count": 23,
   "metadata": {},
   "outputs": [
    {
     "data": {
      "text/html": [
       "<div>\n",
       "<style scoped>\n",
       "    .dataframe tbody tr th:only-of-type {\n",
       "        vertical-align: middle;\n",
       "    }\n",
       "\n",
       "    .dataframe tbody tr th {\n",
       "        vertical-align: top;\n",
       "    }\n",
       "\n",
       "    .dataframe thead th {\n",
       "        text-align: right;\n",
       "    }\n",
       "</style>\n",
       "<table border=\"1\" class=\"dataframe\">\n",
       "  <thead>\n",
       "    <tr style=\"text-align: right;\">\n",
       "      <th></th>\n",
       "      <th>coefficients</th>\n",
       "      <th>t-values</th>\n",
       "    </tr>\n",
       "    <tr>\n",
       "      <th>ZCAPM</th>\n",
       "      <th></th>\n",
       "      <th></th>\n",
       "    </tr>\n",
       "  </thead>\n",
       "  <tbody>\n",
       "    <tr>\n",
       "      <th>intercept</th>\n",
       "      <td>0.7512296664738556</td>\n",
       "      <td>3.497781612467157</td>\n",
       "    </tr>\n",
       "    <tr>\n",
       "      <th>beta</th>\n",
       "      <td>-0.16371098043396667</td>\n",
       "      <td>-0.7902428749234203</td>\n",
       "    </tr>\n",
       "    <tr>\n",
       "      <th>zeta</th>\n",
       "      <td>0.27776714774019834</td>\n",
       "      <td>4.440021124542476</td>\n",
       "    </tr>\n",
       "    <tr>\n",
       "      <th>Single Regression Approach R-squared</th>\n",
       "      <td>0.9434936089919262</td>\n",
       "      <td></td>\n",
       "    </tr>\n",
       "  </tbody>\n",
       "</table>\n",
       "</div>"
      ],
      "text/plain": [
       "                                              coefficients  \\\n",
       "ZCAPM                                                        \n",
       "intercept                               0.7512296664738556   \n",
       "beta                                  -0.16371098043396667   \n",
       "zeta                                   0.27776714774019834   \n",
       "Single Regression Approach R-squared    0.9434936089919262   \n",
       "\n",
       "                                                 t-values  \n",
       "ZCAPM                                                      \n",
       "intercept                               3.497781612467157  \n",
       "beta                                  -0.7902428749234203  \n",
       "zeta                                    4.440021124542476  \n",
       "Single Regression Approach R-squared                       "
      ]
     },
     "execution_count": 23,
     "metadata": {},
     "output_type": "execute_result"
    }
   ],
   "source": [
    "ZCAPM"
   ]
  },
  {
   "cell_type": "code",
   "execution_count": 24,
   "metadata": {},
   "outputs": [
    {
     "data": {
      "text/html": [
       "<div>\n",
       "<style scoped>\n",
       "    .dataframe tbody tr th:only-of-type {\n",
       "        vertical-align: middle;\n",
       "    }\n",
       "\n",
       "    .dataframe tbody tr th {\n",
       "        vertical-align: top;\n",
       "    }\n",
       "\n",
       "    .dataframe thead th {\n",
       "        text-align: right;\n",
       "    }\n",
       "</style>\n",
       "<table border=\"1\" class=\"dataframe\">\n",
       "  <thead>\n",
       "    <tr style=\"text-align: right;\">\n",
       "      <th></th>\n",
       "      <th>coefficients</th>\n",
       "      <th>t-values</th>\n",
       "    </tr>\n",
       "    <tr>\n",
       "      <th>Fama-French 3 Factor</th>\n",
       "      <th></th>\n",
       "      <th></th>\n",
       "    </tr>\n",
       "  </thead>\n",
       "  <tbody>\n",
       "    <tr>\n",
       "      <th>intercept</th>\n",
       "      <td>0.8301745308930474</td>\n",
       "      <td>4.66211077801193</td>\n",
       "    </tr>\n",
       "    <tr>\n",
       "      <th>R_a.R_f</th>\n",
       "      <td>-0.3103320201874716</td>\n",
       "      <td>-1.6554497522919862</td>\n",
       "    </tr>\n",
       "    <tr>\n",
       "      <th>SMB</th>\n",
       "      <td>0.18693279566558302</td>\n",
       "      <td>1.4866973964195753</td>\n",
       "    </tr>\n",
       "    <tr>\n",
       "      <th>HML</th>\n",
       "      <td>0.2767534942772491</td>\n",
       "      <td>2.422771807333924</td>\n",
       "    </tr>\n",
       "    <tr>\n",
       "      <th>Single Regression Approach R-squared</th>\n",
       "      <td>0.6410808926753384</td>\n",
       "      <td></td>\n",
       "    </tr>\n",
       "  </tbody>\n",
       "</table>\n",
       "</div>"
      ],
      "text/plain": [
       "                                             coefficients             t-values\n",
       "Fama-French 3 Factor                                                          \n",
       "intercept                              0.8301745308930474     4.66211077801193\n",
       "R_a.R_f                               -0.3103320201874716  -1.6554497522919862\n",
       "SMB                                   0.18693279566558302   1.4866973964195753\n",
       "HML                                    0.2767534942772491    2.422771807333924\n",
       "Single Regression Approach R-squared   0.6410808926753384                     "
      ]
     },
     "execution_count": 24,
     "metadata": {},
     "output_type": "execute_result"
    }
   ],
   "source": [
    "FF3"
   ]
  },
  {
   "cell_type": "code",
   "execution_count": 25,
   "metadata": {},
   "outputs": [
    {
     "data": {
      "text/html": [
       "<div>\n",
       "<style scoped>\n",
       "    .dataframe tbody tr th:only-of-type {\n",
       "        vertical-align: middle;\n",
       "    }\n",
       "\n",
       "    .dataframe tbody tr th {\n",
       "        vertical-align: top;\n",
       "    }\n",
       "\n",
       "    .dataframe thead th {\n",
       "        text-align: right;\n",
       "    }\n",
       "</style>\n",
       "<table border=\"1\" class=\"dataframe\">\n",
       "  <thead>\n",
       "    <tr style=\"text-align: right;\">\n",
       "      <th></th>\n",
       "      <th>coefficients</th>\n",
       "      <th>t-values</th>\n",
       "    </tr>\n",
       "    <tr>\n",
       "      <th>CAPM</th>\n",
       "      <th></th>\n",
       "      <th></th>\n",
       "    </tr>\n",
       "  </thead>\n",
       "  <tbody>\n",
       "    <tr>\n",
       "      <th>intercept</th>\n",
       "      <td>0.9311867580090316</td>\n",
       "      <td>4.098364634696489</td>\n",
       "    </tr>\n",
       "    <tr>\n",
       "      <th>R_a.R_f</th>\n",
       "      <td>-0.322125324021365</td>\n",
       "      <td>-1.4438116059978992</td>\n",
       "    </tr>\n",
       "    <tr>\n",
       "      <th>Single Regression Approach R-squared</th>\n",
       "      <td>0.5234846086050585</td>\n",
       "      <td></td>\n",
       "    </tr>\n",
       "  </tbody>\n",
       "</table>\n",
       "</div>"
      ],
      "text/plain": [
       "                                            coefficients             t-values\n",
       "CAPM                                                                         \n",
       "intercept                             0.9311867580090316    4.098364634696489\n",
       "R_a.R_f                               -0.322125324021365  -1.4438116059978992\n",
       "Single Regression Approach R-squared  0.5234846086050585                     "
      ]
     },
     "execution_count": 25,
     "metadata": {},
     "output_type": "execute_result"
    }
   ],
   "source": [
    "CAPM"
   ]
  }
 ],
 "metadata": {
  "kernelspec": {
   "display_name": "Python 3",
   "language": "python",
   "name": "python3"
  },
  "language_info": {
   "codemirror_mode": {
    "name": "ipython",
    "version": 3
   },
   "file_extension": ".py",
   "mimetype": "text/x-python",
   "name": "python",
   "nbconvert_exporter": "python",
   "pygments_lexer": "ipython3",
   "version": "3.8.5"
  }
 },
 "nbformat": 4,
 "nbformat_minor": 4
}
